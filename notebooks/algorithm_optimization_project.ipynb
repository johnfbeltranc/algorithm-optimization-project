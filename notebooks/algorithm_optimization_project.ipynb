{
 "cells": [
  {
   "cell_type": "markdown",
   "id": "ec51f52a",
   "metadata": {},
   "source": [
    "john fredy beltran cuellar\n",
    "\n",
    "date: 08/24/2025\n"
   ]
  },
  {
   "cell_type": "markdown",
   "id": "08b79dcc",
   "metadata": {},
   "source": [
    "## **Optimization of Algorithms problems**\n",
    "## Exercise 1\n",
    "Code Optimization for Text Processing\n",
    "\n",
    "You are provided with a text processing code to perform the following operations:\n",
    "\n",
    "-  Convert all text to lowercase.\n",
    "-  Remove punctuation marks.\n",
    "-  Count the frequency of each word.\n",
    "-  Show the 5 most common words.\n",
    "\n",
    "The code works, but it is inefficient and can be optimized. Your task is to identify areas that can be improved and rewrite those parts to make the code more efficient and readable."
   ]
  },
  {
   "cell_type": "code",
   "execution_count": 6,
   "id": "9d3b4928",
   "metadata": {},
   "outputs": [
    {
     "name": "stdout",
     "output_type": "stream",
     "text": [
      "'the': 5 times\n",
      "'of': 3 times\n",
      "'in': 2 times\n",
      "'a': 2 times\n",
      "'she': 2 times\n"
     ]
    }
   ],
   "source": [
    "import string\n",
    "\n",
    "def process_text(text):\n",
    "    # Text to lowercase\n",
    "    text = text.lower()\n",
    "\n",
    "    # Remove punctuation\n",
    "    for p in string.punctuation:\n",
    "        text = text.replace(p, \"\")\n",
    "\n",
    "    # Split text into words\n",
    "    words = text.split()\n",
    "\n",
    "    # Count frecuencies\n",
    "    frequencies = {}\n",
    "    for w in words:\n",
    "        if w in frequencies:\n",
    "            frequencies[w] += 1\n",
    "        else:\n",
    "            frequencies[w] = 1\n",
    "\n",
    "    sorted_frequencies = sorted(frequencies.items(), key = lambda x: x[1], reverse = True)\n",
    "\n",
    "    # Get 5 most-common words\n",
    "    top_5 = sorted_frequencies[:5]\n",
    "    \n",
    "    for w, frequency in top_5:\n",
    "        print(f\"'{w}': {frequency} times\")\n",
    "\n",
    "text = \"\"\"\n",
    "    In the heart of the city, Emily discovered a quaint little café, hidden away from the bustling streets. \n",
    "    The aroma of freshly baked pastries wafted through the air, drawing in passersby. As she sipped on her latte, \n",
    "    she noticed an old bookshelf filled with classics, creating a cozy atmosphere that made her lose track of time.\n",
    "\"\"\"\n",
    "process_text(text)"
   ]
  },
  {
   "cell_type": "markdown",
   "id": "d2cb44a3",
   "metadata": {},
   "source": [
    "\n",
    "1. Removal of punctuation marks: Using replace in a loop can be inefficient, especially with long texts. Look for a more efficient way to remove punctuation marks.\n",
    "\n",
    "2. Frequency count: The code checks for the existence of each word in the dictionary and then updates its count. This can be done more efficiently with certain data structures in Python.\n",
    "\n",
    "3. Sort and select: Consider if there is a more direct or efficient way to get the 5 most frequent words without sorting all the words.\n",
    "\n",
    "4. Modularity: Break the code into smaller functions so that each one performs a specific task. This will not only optimize performance, but also make the code more readable and maintainable.\n"
   ]
  },
  {
   "cell_type": "markdown",
   "id": "88db6115",
   "metadata": {},
   "source": [
    "## optimizacion"
   ]
  },
  {
   "cell_type": "code",
   "execution_count": 7,
   "id": "4dd603c3",
   "metadata": {},
   "outputs": [
    {
     "name": "stdout",
     "output_type": "stream",
     "text": [
      "'the': 5 times\n",
      "'of': 3 times\n",
      "'in': 2 times\n",
      "'a': 2 times\n",
      "'she': 2 times\n"
     ]
    }
   ],
   "source": [
    "import string\n",
    "from collections import Counter\n",
    "\n",
    "def clean_text(text: str) -> list:\n",
    "    # Convierte a minúsculas y elimina puntuación.\n",
    "    translator = str.maketrans('', '', string.punctuation)\n",
    "    return text.lower().translate(translator).split()\n",
    "\n",
    "def get_top_n_words(words: list, n: int = 5) -> list:\n",
    "    # Cuenta la frecuencia de palabras y devuelve las n más comunes.\n",
    "    counter = Counter(words)\n",
    "    return counter.most_common(n)\n",
    "\n",
    "def process_text(text: str, top_n: int = 5):\n",
    "    words = clean_text(text)\n",
    "    top_words = get_top_n_words(words, top_n)\n",
    "    \n",
    "    for w, freq in top_words:\n",
    "        print(f\"'{w}': {freq} times\")\n",
    "\n",
    "# Ejemplo de uso\n",
    "text = \"\"\"\n",
    "In the heart of the city, Emily discovered a quaint little café, hidden away from the bustling streets. \n",
    "The aroma of freshly baked pastries wafted through the air, drawing in passersby. As she sipped on her latte, \n",
    "she noticed an old bookshelf filled with classics, creating a cozy atmosphere that made her lose track of time.\n",
    "\"\"\"\n",
    "\n",
    "process_text(text)"
   ]
  },
  {
   "cell_type": "markdown",
   "id": "1e852382",
   "metadata": {},
   "source": [
    "\n",
    "## Exercise 2\n",
    "Code Optimization for List Processing\n",
    "\n",
    "You have been given a code that performs operations on a list of numbers for:\n",
    "\n",
    "1. Filter out even numbers.\n",
    "2.  Duplicate each number.\n",
    "3.  Add all numbers.\n",
    "4.  Check if the result is a prime number.\n",
    "\n",
    "The code provided achieves its goal, but it may be inefficient. Your task is to identify and improve the parts of the code to increase its efficiency.\n"
   ]
  },
  {
   "cell_type": "code",
   "execution_count": 8,
   "id": "b67b7498",
   "metadata": {},
   "outputs": [
    {
     "name": "stdout",
     "output_type": "stream",
     "text": [
      "Result: 60, ¿Prime? No\n"
     ]
    }
   ],
   "source": [
    "import math\n",
    "\n",
    "def is_prime(n):\n",
    "    if n <= 1:\n",
    "        return False\n",
    "    for i in range(2, int(math.sqrt(n)) + 1):\n",
    "        if n % i == 0:\n",
    "            return False\n",
    "    return True\n",
    "\n",
    "def process_list(list_):\n",
    "    filtered_list = []\n",
    "    for num in list_:\n",
    "        if num % 2 == 0:\n",
    "            filtered_list.append(num)\n",
    "    \n",
    "    duplicate_list = []\n",
    "    for num in filtered_list:\n",
    "        duplicate_list.append(num * 2)\n",
    "        \n",
    "    sum = 0\n",
    "    for num in duplicate_list:\n",
    "        sum += num\n",
    "\n",
    "    prime = is_prime(sum)\n",
    "    \n",
    "    return sum, prime\n",
    "\n",
    "list_ = [1, 2, 3, 4, 5, 6, 7, 8, 9, 10]\n",
    "result, result_prime = process_list(list_)\n",
    "print(f\"Result: {result}, ¿Prime? {'Yes' if result_prime else 'No'}\")"
   ]
  },
  {
   "cell_type": "markdown",
   "id": "95bbd9f0",
   "metadata": {},
   "source": [
    "\n",
    "\n",
    "Points to optimize:\n",
    "\n",
    "1. Filter numbers: The code goes through the original list to filter out even numbers. Consider a more efficient way to filter the list.\n",
    "\n",
    "2. Duplication: The list is traversed multiple times. Is there a way to do this more efficiently?\n",
    "    \n",
    "3. Summing: The numbers in a list are summed through a loop. Python has built-in functions that can optimize this.\n",
    "    \n",
    "4. Function is_prime: While this function is relatively efficient, investigate if there are ways to make it even faster.\n",
    "\n",
    "5. Modularity: Consider breaking the code into smaller functions, each focused on a specific task.\n",
    "\n"
   ]
  },
  {
   "cell_type": "markdown",
   "id": "8e23833d",
   "metadata": {},
   "source": [
    "## optimizacion 2"
   ]
  },
  {
   "cell_type": "code",
   "execution_count": 9,
   "id": "8ade10b6",
   "metadata": {},
   "outputs": [
    {
     "name": "stdout",
     "output_type": "stream",
     "text": [
      "Result: 60, ¿Prime? No\n"
     ]
    }
   ],
   "source": [
    "import math\n",
    "from functools import reduce\n",
    "\n",
    "def is_prime(n: int) -> bool:\n",
    "    \"\"\"Verifica si un número es primo.\"\"\"\n",
    "    if n <= 1:\n",
    "        return False\n",
    "    if n == 2:\n",
    "        return True\n",
    "    if n % 2 == 0:\n",
    "        return False\n",
    "    for i in range(3, int(math.isqrt(n)) + 1, 2):  # solo impares\n",
    "        if n % i == 0:\n",
    "            return False\n",
    "    return True\n",
    "\n",
    "def process_list(list_: list) -> tuple[int, bool]:\n",
    "    \"\"\"Filtra pares, los duplica, suma y verifica si la suma es primo.\"\"\"\n",
    "    # Filtrado, duplicación y suma en una sola línea con comprensión de listas\n",
    "    total = sum(num * 2 for num in list_ if num % 2 == 0)\n",
    "    \n",
    "    # Verificar si la suma es primo\n",
    "    prime = is_prime(total)\n",
    "    \n",
    "    return total, prime\n",
    "\n",
    "# Ejemplo de uso\n",
    "list_ = [1, 2, 3, 4, 5, 6, 7, 8, 9, 10]\n",
    "result, result_prime = process_list(list_)\n",
    "print(f\"Result: {result}, ¿Prime? {'Yes' if result_prime else 'No'}\")"
   ]
  }
 ],
 "metadata": {
  "kernelspec": {
   "display_name": ".venv",
   "language": "python",
   "name": "python3"
  },
  "language_info": {
   "codemirror_mode": {
    "name": "ipython",
    "version": 3
   },
   "file_extension": ".py",
   "mimetype": "text/x-python",
   "name": "python",
   "nbconvert_exporter": "python",
   "pygments_lexer": "ipython3",
   "version": "3.12.1"
  }
 },
 "nbformat": 4,
 "nbformat_minor": 5
}
